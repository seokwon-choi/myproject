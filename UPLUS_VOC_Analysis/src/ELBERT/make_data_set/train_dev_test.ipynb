{
  "nbformat": 4,
  "nbformat_minor": 0,
  "metadata": {
    "colab": {
      "name": "train_dev_test.ipynb",
      "provenance": []
    },
    "kernelspec": {
      "name": "python3",
      "display_name": "Python 3"
    },
    "language_info": {
      "name": "python"
    }
  },
  "cells": [
    {
      "cell_type": "markdown",
      "metadata": {
        "id": "6KVhdLshSSNf"
      },
      "source": [
        "1. **구글 드라이브 마운트**"
      ]
    },
    {
      "cell_type": "code",
      "metadata": {
        "colab": {
          "base_uri": "https://localhost:8080/"
        },
        "id": "XlQus7VY-M6Q",
        "outputId": "3a8a31de-a3e0-48f2-b9b7-3875eede11dc"
      },
      "source": [
        "from google.colab import drive\n",
        "drive.mount('/content/drive')"
      ],
      "execution_count": null,
      "outputs": [
        {
          "output_type": "stream",
          "text": [
            "Mounted at /content/drive\n"
          ],
          "name": "stdout"
        }
      ]
    },
    {
      "cell_type": "code",
      "metadata": {
        "id": "M6Z8ux-CHjOn"
      },
      "source": [
        "import pandas as pd"
      ],
      "execution_count": null,
      "outputs": []
    },
    {
      "cell_type": "markdown",
      "metadata": {
        "id": "RoF-Gx4AsPow"
      },
      "source": [
        "2. **csv파일 불러오기**\n",
        "\n",
        "*   <수정> pd.read_csv(path+'파일명')\n",
        "\n",
        "\n",
        "*   ***!!!파일 가져오기 전에!!!***\n",
        "\n",
        " .csv파일을 구글 스프래드시트로 열어서 수정하면 .gsheet로 변경됩니다. 그래서 이걸 다시 .csv파일로 바꿔줘야 해요!\n",
        "\n",
        " (구글 스프래드시트로 다시 열어서 직접 수정하면 됩니당)"
      ]
    },
    {
      "cell_type": "code",
      "metadata": {
        "id": "Vu_rLarpI5XS"
      },
      "source": [
        "path = '/content/drive/Shareddrives/capstone/Elegant_Friends/rsc/labeling_data/service_center_2020_4.csv'\n",
        "\n",
        "file = pd.read_csv(path)\n",
        "file.drop(columns = {\"Unnamed: 0\"}, inplace = True)"
      ],
      "execution_count": null,
      "outputs": []
    },
    {
      "cell_type": "code",
      "metadata": {
        "colab": {
          "base_uri": "https://localhost:8080/",
          "height": 419
        },
        "id": "243wgRH1GUkY",
        "outputId": "38248fb3-5489-43a1-b521-0e5f323b7d51"
      },
      "source": [
        "file"
      ],
      "execution_count": null,
      "outputs": [
        {
          "output_type": "execute_result",
          "data": {
            "text/html": [
              "<div>\n",
              "<style scoped>\n",
              "    .dataframe tbody tr th:only-of-type {\n",
              "        vertical-align: middle;\n",
              "    }\n",
              "\n",
              "    .dataframe tbody tr th {\n",
              "        vertical-align: top;\n",
              "    }\n",
              "\n",
              "    .dataframe thead th {\n",
              "        text-align: right;\n",
              "    }\n",
              "</style>\n",
              "<table border=\"1\" class=\"dataframe\">\n",
              "  <thead>\n",
              "    <tr style=\"text-align: right;\">\n",
              "      <th></th>\n",
              "      <th>DATE</th>\n",
              "      <th>STAR</th>\n",
              "      <th>REVIEW</th>\n",
              "      <th>LABEL</th>\n",
              "    </tr>\n",
              "  </thead>\n",
              "  <tbody>\n",
              "    <tr>\n",
              "      <th>0</th>\n",
              "      <td>2020년 12월 31일</td>\n",
              "      <td>별표 5개 만점에 5개를 받았습니다.</td>\n",
              "      <td>잘 됍니다</td>\n",
              "      <td>1</td>\n",
              "    </tr>\n",
              "    <tr>\n",
              "      <th>1</th>\n",
              "      <td>2020년 12월 31일</td>\n",
              "      <td>별표 5개 만점에 1개를 받았습니다.</td>\n",
              "      <td>진짜 KT쓰다 어제 LG UPlus로 넘어왔는데.. 와벌써부터 구린게 확 느껴지네....</td>\n",
              "      <td>0</td>\n",
              "    </tr>\n",
              "    <tr>\n",
              "      <th>2</th>\n",
              "      <td>2020년 12월 30일</td>\n",
              "      <td>별표 5개 만점에 1개를 받았습니다.</td>\n",
              "      <td>앱이 왜 안열리나요</td>\n",
              "      <td>0</td>\n",
              "    </tr>\n",
              "    <tr>\n",
              "      <th>3</th>\n",
              "      <td>2020년 12월 30일</td>\n",
              "      <td>별표 5개 만점에 1개를 받았습니다.</td>\n",
              "      <td>계속 자동 종료됩니다, 지우고 깔고를 십회이상 반복했는데 저만 있는 증상 이 아닌듯...</td>\n",
              "      <td>0</td>\n",
              "    </tr>\n",
              "    <tr>\n",
              "      <th>4</th>\n",
              "      <td>2020년 12월 30일</td>\n",
              "      <td>별표 5개 만점에 1개를 받았습니다.</td>\n",
              "      <td>어플안돼 ㅡㅡ</td>\n",
              "      <td>0</td>\n",
              "    </tr>\n",
              "    <tr>\n",
              "      <th>...</th>\n",
              "      <td>...</td>\n",
              "      <td>...</td>\n",
              "      <td>...</td>\n",
              "      <td>...</td>\n",
              "    </tr>\n",
              "    <tr>\n",
              "      <th>883</th>\n",
              "      <td>2020년 10월 2일</td>\n",
              "      <td>별표 5개 만점에 1개를 받았습니다.</td>\n",
              "      <td>보통</td>\n",
              "      <td>0</td>\n",
              "    </tr>\n",
              "    <tr>\n",
              "      <th>884</th>\n",
              "      <td>2020년 10월 2일</td>\n",
              "      <td>별표 5개 만점에 5개를 받았습니다.</td>\n",
              "      <td>친절</td>\n",
              "      <td>1</td>\n",
              "    </tr>\n",
              "    <tr>\n",
              "      <th>885</th>\n",
              "      <td>2020년 10월 1일</td>\n",
              "      <td>별표 5개 만점에 1개를 받았습니다.</td>\n",
              "      <td>리뷰첨쓰는데 진짜 짜증나서 씀. 무슨 사용 변경 됐다며 자꾸 핀번호 변경하래. 다섯...</td>\n",
              "      <td>0</td>\n",
              "    </tr>\n",
              "    <tr>\n",
              "      <th>886</th>\n",
              "      <td>2020년 10월 1일</td>\n",
              "      <td>별표 5개 만점에 1개를 받았습니다.</td>\n",
              "      <td>아니무슨 고겍센터 들어가는데 하루종일 로딩함? 느려터져가지고 뭘써먹으라는거야 답답해...</td>\n",
              "      <td>0</td>\n",
              "    </tr>\n",
              "    <tr>\n",
              "      <th>887</th>\n",
              "      <td>2020년 10월 1일</td>\n",
              "      <td>별표 5개 만점에 2개를 받았습니다.</td>\n",
              "      <td>잘사용하다가 통신사 바꿔서 지움</td>\n",
              "      <td>0</td>\n",
              "    </tr>\n",
              "  </tbody>\n",
              "</table>\n",
              "<p>888 rows × 4 columns</p>\n",
              "</div>"
            ],
            "text/plain": [
              "              DATE  ... LABEL\n",
              "0    2020년 12월 31일  ...     1\n",
              "1    2020년 12월 31일  ...     0\n",
              "2    2020년 12월 30일  ...     0\n",
              "3    2020년 12월 30일  ...     0\n",
              "4    2020년 12월 30일  ...     0\n",
              "..             ...  ...   ...\n",
              "883   2020년 10월 2일  ...     0\n",
              "884   2020년 10월 2일  ...     1\n",
              "885   2020년 10월 1일  ...     0\n",
              "886   2020년 10월 1일  ...     0\n",
              "887   2020년 10월 1일  ...     0\n",
              "\n",
              "[888 rows x 4 columns]"
            ]
          },
          "metadata": {
            "tags": []
          },
          "execution_count": 4
        }
      ]
    },
    {
      "cell_type": "markdown",
      "metadata": {
        "id": "VJOB4At4Sj4N"
      },
      "source": [
        "3. **train과 dev+test로 분할**"
      ]
    },
    {
      "cell_type": "code",
      "metadata": {
        "colab": {
          "base_uri": "https://localhost:8080/"
        },
        "id": "YjpcHxjPM-No",
        "outputId": "d7612b52-af30-4f30-fa49-aa719e99c57e"
      },
      "source": [
        "from sklearn.model_selection import train_test_split\n",
        "\n",
        "train, dev_test, = train_test_split(file, test_size=0.2, \n",
        "                                    shuffle=True, \n",
        "                                    random_state=1004)\n",
        "print(\"train: \", len(train), \", dev+test: \", len(dev_test))"
      ],
      "execution_count": null,
      "outputs": [
        {
          "output_type": "stream",
          "text": [
            "train:  710 , dev+test:  178\n"
          ],
          "name": "stdout"
        }
      ]
    },
    {
      "cell_type": "markdown",
      "metadata": {
        "id": "Vsq9gglpTXg3"
      },
      "source": [
        "4. **dev+test를 dev와 test로 분할**"
      ]
    },
    {
      "cell_type": "code",
      "metadata": {
        "colab": {
          "base_uri": "https://localhost:8080/"
        },
        "id": "VwXcI1R_R_5v",
        "outputId": "5694b6e5-af89-4f67-d4c8-c7499cf147a0"
      },
      "source": [
        "dev, test, = train_test_split(dev_test, test_size=0.5, \n",
        "                                    shuffle=True, \n",
        "                                    random_state=1004)\n",
        "print(\"train: \", len(dev), \", dev+test: \", len(test))"
      ],
      "execution_count": null,
      "outputs": [
        {
          "output_type": "stream",
          "text": [
            "train:  89 , dev+test:  89\n"
          ],
          "name": "stdout"
        }
      ]
    },
    {
      "cell_type": "markdown",
      "metadata": {
        "id": "Nert8iKDUAqd"
      },
      "source": [
        "5. **.tsv파일로 저장**\n",
        "\n",
        "\n",
        "*   어플 이름으로 디렉토리 생성\n",
        "\n"
      ]
    },
    {
      "cell_type": "code",
      "metadata": {
        "colab": {
          "base_uri": "https://localhost:8080/",
          "height": 419
        },
        "id": "CqwZZBmRTGrV",
        "outputId": "81a78bb3-7292-42bc-ae8c-9279396844e9"
      },
      "source": [
        "train"
      ],
      "execution_count": null,
      "outputs": [
        {
          "output_type": "execute_result",
          "data": {
            "text/html": [
              "<div>\n",
              "<style scoped>\n",
              "    .dataframe tbody tr th:only-of-type {\n",
              "        vertical-align: middle;\n",
              "    }\n",
              "\n",
              "    .dataframe tbody tr th {\n",
              "        vertical-align: top;\n",
              "    }\n",
              "\n",
              "    .dataframe thead th {\n",
              "        text-align: right;\n",
              "    }\n",
              "</style>\n",
              "<table border=\"1\" class=\"dataframe\">\n",
              "  <thead>\n",
              "    <tr style=\"text-align: right;\">\n",
              "      <th></th>\n",
              "      <th>DATE</th>\n",
              "      <th>STAR</th>\n",
              "      <th>REVIEW</th>\n",
              "      <th>LABEL</th>\n",
              "    </tr>\n",
              "  </thead>\n",
              "  <tbody>\n",
              "    <tr>\n",
              "      <th>593</th>\n",
              "      <td>2020년 11월 11일</td>\n",
              "      <td>별표 5개 만점에 2개를 받았습니다.</td>\n",
              "      <td>여러가지가있어서 헸갈립니다</td>\n",
              "      <td>0</td>\n",
              "    </tr>\n",
              "    <tr>\n",
              "      <th>376</th>\n",
              "      <td>2020년 11월 20일</td>\n",
              "      <td>별표 5개 만점에 5개를 받았습니다.</td>\n",
              "      <td>좋아요</td>\n",
              "      <td>1</td>\n",
              "    </tr>\n",
              "    <tr>\n",
              "      <th>265</th>\n",
              "      <td>2020년 11월 25일</td>\n",
              "      <td>별표 5개 만점에 1개를 받았습니다.</td>\n",
              "      <td>이 야발새끼들은 뭐만하면 오류야, 혜택도 뭣도 없는게, 할부끝나면 손절친다 야발</td>\n",
              "      <td>0</td>\n",
              "    </tr>\n",
              "    <tr>\n",
              "      <th>881</th>\n",
              "      <td>2020년 10월 3일</td>\n",
              "      <td>별표 5개 만점에 2개를 받았습니다.</td>\n",
              "      <td>Lgupuls 엘티이 진짜 안되고 짜증</td>\n",
              "      <td>0</td>\n",
              "    </tr>\n",
              "    <tr>\n",
              "      <th>605</th>\n",
              "      <td>2020년 11월 10일</td>\n",
              "      <td>별표 5개 만점에 5개를 받았습니다.</td>\n",
              "      <td>A/s 신속하게 처리 해주어서 맘에듬</td>\n",
              "      <td>1</td>\n",
              "    </tr>\n",
              "    <tr>\n",
              "      <th>...</th>\n",
              "      <td>...</td>\n",
              "      <td>...</td>\n",
              "      <td>...</td>\n",
              "      <td>...</td>\n",
              "    </tr>\n",
              "    <tr>\n",
              "      <th>239</th>\n",
              "      <td>2020년 11월 28일</td>\n",
              "      <td>별표 5개 만점에 1개를 받았습니다.</td>\n",
              "      <td>되질않네요</td>\n",
              "      <td>0</td>\n",
              "    </tr>\n",
              "    <tr>\n",
              "      <th>325</th>\n",
              "      <td>2020년 11월 22일</td>\n",
              "      <td>별표 5개 만점에 5개를 받았습니다.</td>\n",
              "      <td>좋아요좋아요좋아요</td>\n",
              "      <td>1</td>\n",
              "    </tr>\n",
              "    <tr>\n",
              "      <th>31</th>\n",
              "      <td>2020년 12월 23일</td>\n",
              "      <td>별표 5개 만점에 1개를 받았습니다.</td>\n",
              "      <td>별한개도아깝다 하루종일 이용자가 많은가봄</td>\n",
              "      <td>0</td>\n",
              "    </tr>\n",
              "    <tr>\n",
              "      <th>523</th>\n",
              "      <td>2020년 11월 17일</td>\n",
              "      <td>별표 5개 만점에 4개를 받았습니다.</td>\n",
              "      <td>좋아요~~~~</td>\n",
              "      <td>1</td>\n",
              "    </tr>\n",
              "    <tr>\n",
              "      <th>2</th>\n",
              "      <td>2020년 12월 30일</td>\n",
              "      <td>별표 5개 만점에 1개를 받았습니다.</td>\n",
              "      <td>앱이 왜 안열리나요</td>\n",
              "      <td>0</td>\n",
              "    </tr>\n",
              "  </tbody>\n",
              "</table>\n",
              "<p>710 rows × 4 columns</p>\n",
              "</div>"
            ],
            "text/plain": [
              "              DATE  ... LABEL\n",
              "593  2020년 11월 11일  ...     0\n",
              "376  2020년 11월 20일  ...     1\n",
              "265  2020년 11월 25일  ...     0\n",
              "881   2020년 10월 3일  ...     0\n",
              "605  2020년 11월 10일  ...     1\n",
              "..             ...  ...   ...\n",
              "239  2020년 11월 28일  ...     0\n",
              "325  2020년 11월 22일  ...     1\n",
              "31   2020년 12월 23일  ...     0\n",
              "523  2020년 11월 17일  ...     1\n",
              "2    2020년 12월 30일  ...     0\n",
              "\n",
              "[710 rows x 4 columns]"
            ]
          },
          "metadata": {
            "tags": []
          },
          "execution_count": 7
        }
      ]
    },
    {
      "cell_type": "code",
      "metadata": {
        "id": "DJNxMY0EYgNa"
      },
      "source": [
        "mkdir /content/drive/Shareddrives/capstone/Elegant_Friends/rsc/train_data/service_center_2020_4/"
      ],
      "execution_count": null,
      "outputs": []
    },
    {
      "cell_type": "code",
      "metadata": {
        "id": "BUjab3GkTmA_"
      },
      "source": [
        "save_path = '/content/drive/Shareddrives/capstone/Elegant_Friends/rsc/train_data/service_center_2020_4/'\n",
        "train.to_csv(save_path+'train_LG.tsv', sep='\\t', header=False)\n",
        "dev.to_csv(save_path+'dev_LG.tsv', sep='\\t', header=False)\n",
        "test.to_csv(save_path+'test_LG.tsv', sep='\\t', header=False)"
      ],
      "execution_count": null,
      "outputs": []
    },
    {
      "cell_type": "code",
      "metadata": {
        "id": "OQAqrMbJXTtU"
      },
      "source": [
        ""
      ],
      "execution_count": null,
      "outputs": []
    }
  ]
}