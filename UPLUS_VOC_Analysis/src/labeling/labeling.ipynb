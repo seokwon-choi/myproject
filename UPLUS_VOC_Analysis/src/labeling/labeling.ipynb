{
  "nbformat": 4,
  "nbformat_minor": 0,
  "metadata": {
    "kernelspec": {
      "display_name": "data_mining",
      "language": "python",
      "name": "data_mining"
    },
    "language_info": {
      "codemirror_mode": {
        "name": "ipython",
        "version": 3
      },
      "file_extension": ".py",
      "mimetype": "text/x-python",
      "name": "python",
      "nbconvert_exporter": "python",
      "pygments_lexer": "ipython3",
      "version": "3.8.1"
    },
    "colab": {
      "name": "labeling.ipynb",
      "provenance": [],
      "collapsed_sections": []
    }
  },
  "cells": [
    {
      "cell_type": "code",
      "metadata": {
        "colab": {
          "base_uri": "https://localhost:8080/"
        },
        "id": "OQ5eMKjzBocY",
        "outputId": "cbeb282b-5313-4abb-f4c2-cae08e29ae4d"
      },
      "source": [
        "from google.colab import drive\n",
        "drive.mount('/content/drive')"
      ],
      "execution_count": null,
      "outputs": [
        {
          "output_type": "stream",
          "text": [
            "Mounted at /content/drive\n"
          ],
          "name": "stdout"
        }
      ]
    },
    {
      "cell_type": "code",
      "metadata": {
        "id": "CVYoT72i3xx_"
      },
      "source": [
        "import pandas as pd"
      ],
      "execution_count": null,
      "outputs": []
    },
    {
      "cell_type": "code",
      "metadata": {
        "id": "Jkh_TNB53xyH"
      },
      "source": [
        "file = pd.read_csv('data/members.csv')\n",
        "file.drop(columns = {\"Unnamed: 0\": \"No\"}, inplace = True)"
      ],
      "execution_count": null,
      "outputs": []
    },
    {
      "cell_type": "code",
      "metadata": {
        "scrolled": true,
        "id": "cxVnboQx3xyI"
      },
      "source": [
        "new = file\n",
        "LABEL = []\n",
        "for row in new['STAR']:\n",
        "    if int(row[10]) < 3: # 별점 3점 이상은 긍정, 3점 미만은 부정으로 분류\n",
        "        LABEL.append(0)\n",
        "    else:\n",
        "        LABEL.append(1)\n",
        "        \n",
        "new['LABEL'] = LABEL"
      ],
      "execution_count": null,
      "outputs": []
    },
    {
      "cell_type": "code",
      "metadata": {
        "id": "K04JTQyw3xyI",
        "outputId": "23d832d8-1c3e-4811-e4d4-8a6832101973"
      },
      "source": [
        "new"
      ],
      "execution_count": null,
      "outputs": [
        {
          "output_type": "execute_result",
          "data": {
            "text/html": [
              "<div>\n",
              "<style scoped>\n",
              "    .dataframe tbody tr th:only-of-type {\n",
              "        vertical-align: middle;\n",
              "    }\n",
              "\n",
              "    .dataframe tbody tr th {\n",
              "        vertical-align: top;\n",
              "    }\n",
              "\n",
              "    .dataframe thead th {\n",
              "        text-align: right;\n",
              "    }\n",
              "</style>\n",
              "<table border=\"1\" class=\"dataframe\">\n",
              "  <thead>\n",
              "    <tr style=\"text-align: right;\">\n",
              "      <th></th>\n",
              "      <th>DATE</th>\n",
              "      <th>STAR</th>\n",
              "      <th>REVIEW</th>\n",
              "      <th>LABEL</th>\n",
              "    </tr>\n",
              "  </thead>\n",
              "  <tbody>\n",
              "    <tr>\n",
              "      <th>0</th>\n",
              "      <td>2020년 12월 22일</td>\n",
              "      <td>별표 5개 만점에 1개를 받았습니다.</td>\n",
              "      <td>수년 째 사용하고 있지만 다른 통신사에 비해서 혜택이 적음. 장기 이용 고객 어쩌고...</td>\n",
              "      <td>0</td>\n",
              "    </tr>\n",
              "    <tr>\n",
              "      <th>1</th>\n",
              "      <td>2020년 12월 17일</td>\n",
              "      <td>별표 5개 만점에 1개를 받았습니다.</td>\n",
              "      <td>장기이용자분들 후기 잘봤습니다. 저도 그말에 아주 공감합니다. 제휴혜택은 점점 없애...</td>\n",
              "      <td>0</td>\n",
              "    </tr>\n",
              "    <tr>\n",
              "      <th>2</th>\n",
              "      <td>2021년 1월 17일</td>\n",
              "      <td>별표 5개 만점에 1개를 받았습니다.</td>\n",
              "      <td>저도 장기vvip 고객입니다. 혜택당연히안좋죠 그나마 메가박스 1년12회무료일때 그...</td>\n",
              "      <td>0</td>\n",
              "    </tr>\n",
              "    <tr>\n",
              "      <th>3</th>\n",
              "      <td>2021년 2월 2일</td>\n",
              "      <td>별표 5개 만점에 1개를 받았습니다.</td>\n",
              "      <td>헐 다들 그렇구나 정말이지 5지인데 왜자꾸끊기는지..그리구 LTE때는 데이터쿠폰 사...</td>\n",
              "      <td>0</td>\n",
              "    </tr>\n",
              "    <tr>\n",
              "      <th>4</th>\n",
              "      <td>2020년 12월 20일</td>\n",
              "      <td>별표 5개 만점에 1개를 받았습니다.</td>\n",
              "      <td>와 저만그렇게 생각하는게 아니었네요 ㅜㅜ 고객위하는척 광고로바뀌어버린앱.. 남들lg...</td>\n",
              "      <td>0</td>\n",
              "    </tr>\n",
              "    <tr>\n",
              "      <th>...</th>\n",
              "      <td>...</td>\n",
              "      <td>...</td>\n",
              "      <td>...</td>\n",
              "      <td>...</td>\n",
              "    </tr>\n",
              "    <tr>\n",
              "      <th>14391</th>\n",
              "      <td>2017년 7월 5일</td>\n",
              "      <td>별표 5개 만점에 5개를 받았습니다.</td>\n",
              "      <td>굿~~^^</td>\n",
              "      <td>1</td>\n",
              "    </tr>\n",
              "    <tr>\n",
              "      <th>14392</th>\n",
              "      <td>2019년 10월 2일</td>\n",
              "      <td>별표 5개 만점에 5개를 받았습니다.</td>\n",
              "      <td>굿~~~~~~~~~~~~~~~~~</td>\n",
              "      <td>1</td>\n",
              "    </tr>\n",
              "    <tr>\n",
              "      <th>14393</th>\n",
              "      <td>2018년 2월 11일</td>\n",
              "      <td>별표 5개 만점에 5개를 받았습니다.</td>\n",
              "      <td>♥♥♥</td>\n",
              "      <td>1</td>\n",
              "    </tr>\n",
              "    <tr>\n",
              "      <th>14394</th>\n",
              "      <td>2017년 3월 11일</td>\n",
              "      <td>별표 5개 만점에 5개를 받았습니다.</td>\n",
              "      <td>♡♡</td>\n",
              "      <td>1</td>\n",
              "    </tr>\n",
              "    <tr>\n",
              "      <th>14395</th>\n",
              "      <td>2014년 2월 4일</td>\n",
              "      <td>별표 5개 만점에 1개를 받았습니다.</td>\n",
              "      <td>NaN</td>\n",
              "      <td>0</td>\n",
              "    </tr>\n",
              "  </tbody>\n",
              "</table>\n",
              "<p>14396 rows × 4 columns</p>\n",
              "</div>"
            ],
            "text/plain": [
              "                DATE                  STAR  \\\n",
              "0      2020년 12월 22일  별표 5개 만점에 1개를 받았습니다.   \n",
              "1      2020년 12월 17일  별표 5개 만점에 1개를 받았습니다.   \n",
              "2       2021년 1월 17일  별표 5개 만점에 1개를 받았습니다.   \n",
              "3        2021년 2월 2일  별표 5개 만점에 1개를 받았습니다.   \n",
              "4      2020년 12월 20일  별표 5개 만점에 1개를 받았습니다.   \n",
              "...              ...                   ...   \n",
              "14391    2017년 7월 5일  별표 5개 만점에 5개를 받았습니다.   \n",
              "14392   2019년 10월 2일  별표 5개 만점에 5개를 받았습니다.   \n",
              "14393   2018년 2월 11일  별표 5개 만점에 5개를 받았습니다.   \n",
              "14394   2017년 3월 11일  별표 5개 만점에 5개를 받았습니다.   \n",
              "14395    2014년 2월 4일  별표 5개 만점에 1개를 받았습니다.   \n",
              "\n",
              "                                                  REVIEW  LABEL  \n",
              "0      수년 째 사용하고 있지만 다른 통신사에 비해서 혜택이 적음. 장기 이용 고객 어쩌고...      0  \n",
              "1      장기이용자분들 후기 잘봤습니다. 저도 그말에 아주 공감합니다. 제휴혜택은 점점 없애...      0  \n",
              "2      저도 장기vvip 고객입니다. 혜택당연히안좋죠 그나마 메가박스 1년12회무료일때 그...      0  \n",
              "3      헐 다들 그렇구나 정말이지 5지인데 왜자꾸끊기는지..그리구 LTE때는 데이터쿠폰 사...      0  \n",
              "4      와 저만그렇게 생각하는게 아니었네요 ㅜㅜ 고객위하는척 광고로바뀌어버린앱.. 남들lg...      0  \n",
              "...                                                  ...    ...  \n",
              "14391                                              굿~~^^      1  \n",
              "14392                                 굿~~~~~~~~~~~~~~~~~      1  \n",
              "14393                                                ♥♥♥      1  \n",
              "14394                                                 ♡♡      1  \n",
              "14395                                                NaN      0  \n",
              "\n",
              "[14396 rows x 4 columns]"
            ]
          },
          "metadata": {
            "tags": []
          },
          "execution_count": 4
        }
      ]
    },
    {
      "cell_type": "code",
      "metadata": {
        "id": "kqzEJEKH3xyJ"
      },
      "source": [
        "new.to_csv(\"members_labeled.csv\", mode='w', encoding='utf-8-sig')"
      ],
      "execution_count": null,
      "outputs": []
    },
    {
      "cell_type": "code",
      "metadata": {
        "id": "YCOklE433xyK"
      },
      "source": [
        "file2 = pd.read_csv('members_labeled.csv')\n",
        "file2.drop(columns = {\"Unnamed: 0\": \"No\"}, inplace = True)"
      ],
      "execution_count": null,
      "outputs": []
    },
    {
      "cell_type": "code",
      "metadata": {
        "id": "VnWqg8YW3xyK",
        "outputId": "d81a3341-2c88-43ec-db90-4441659fc7fe"
      },
      "source": [
        "file2"
      ],
      "execution_count": null,
      "outputs": [
        {
          "output_type": "execute_result",
          "data": {
            "text/html": [
              "<div>\n",
              "<style scoped>\n",
              "    .dataframe tbody tr th:only-of-type {\n",
              "        vertical-align: middle;\n",
              "    }\n",
              "\n",
              "    .dataframe tbody tr th {\n",
              "        vertical-align: top;\n",
              "    }\n",
              "\n",
              "    .dataframe thead th {\n",
              "        text-align: right;\n",
              "    }\n",
              "</style>\n",
              "<table border=\"1\" class=\"dataframe\">\n",
              "  <thead>\n",
              "    <tr style=\"text-align: right;\">\n",
              "      <th></th>\n",
              "      <th>DATE</th>\n",
              "      <th>STAR</th>\n",
              "      <th>REVIEW</th>\n",
              "      <th>LABEL</th>\n",
              "    </tr>\n",
              "  </thead>\n",
              "  <tbody>\n",
              "    <tr>\n",
              "      <th>0</th>\n",
              "      <td>2020년 12월 22일</td>\n",
              "      <td>별표 5개 만점에 1개를 받았습니다.</td>\n",
              "      <td>수년 째 사용하고 있지만 다른 통신사에 비해서 혜택이 적음. 장기 이용 고객 어쩌고...</td>\n",
              "      <td>0</td>\n",
              "    </tr>\n",
              "    <tr>\n",
              "      <th>1</th>\n",
              "      <td>2020년 12월 17일</td>\n",
              "      <td>별표 5개 만점에 1개를 받았습니다.</td>\n",
              "      <td>장기이용자분들 후기 잘봤습니다. 저도 그말에 아주 공감합니다. 제휴혜택은 점점 없애...</td>\n",
              "      <td>0</td>\n",
              "    </tr>\n",
              "    <tr>\n",
              "      <th>2</th>\n",
              "      <td>2021년 1월 17일</td>\n",
              "      <td>별표 5개 만점에 1개를 받았습니다.</td>\n",
              "      <td>저도 장기vvip 고객입니다. 혜택당연히안좋죠 그나마 메가박스 1년12회무료일때 그...</td>\n",
              "      <td>0</td>\n",
              "    </tr>\n",
              "    <tr>\n",
              "      <th>3</th>\n",
              "      <td>2021년 2월 2일</td>\n",
              "      <td>별표 5개 만점에 1개를 받았습니다.</td>\n",
              "      <td>헐 다들 그렇구나 정말이지 5지인데 왜자꾸끊기는지..그리구 LTE때는 데이터쿠폰 사...</td>\n",
              "      <td>0</td>\n",
              "    </tr>\n",
              "    <tr>\n",
              "      <th>4</th>\n",
              "      <td>2020년 12월 20일</td>\n",
              "      <td>별표 5개 만점에 1개를 받았습니다.</td>\n",
              "      <td>와 저만그렇게 생각하는게 아니었네요 ㅜㅜ 고객위하는척 광고로바뀌어버린앱.. 남들lg...</td>\n",
              "      <td>0</td>\n",
              "    </tr>\n",
              "    <tr>\n",
              "      <th>...</th>\n",
              "      <td>...</td>\n",
              "      <td>...</td>\n",
              "      <td>...</td>\n",
              "      <td>...</td>\n",
              "    </tr>\n",
              "    <tr>\n",
              "      <th>14391</th>\n",
              "      <td>2017년 7월 5일</td>\n",
              "      <td>별표 5개 만점에 5개를 받았습니다.</td>\n",
              "      <td>굿~~^^</td>\n",
              "      <td>1</td>\n",
              "    </tr>\n",
              "    <tr>\n",
              "      <th>14392</th>\n",
              "      <td>2019년 10월 2일</td>\n",
              "      <td>별표 5개 만점에 5개를 받았습니다.</td>\n",
              "      <td>굿~~~~~~~~~~~~~~~~~</td>\n",
              "      <td>1</td>\n",
              "    </tr>\n",
              "    <tr>\n",
              "      <th>14393</th>\n",
              "      <td>2018년 2월 11일</td>\n",
              "      <td>별표 5개 만점에 5개를 받았습니다.</td>\n",
              "      <td>♥♥♥</td>\n",
              "      <td>1</td>\n",
              "    </tr>\n",
              "    <tr>\n",
              "      <th>14394</th>\n",
              "      <td>2017년 3월 11일</td>\n",
              "      <td>별표 5개 만점에 5개를 받았습니다.</td>\n",
              "      <td>♡♡</td>\n",
              "      <td>1</td>\n",
              "    </tr>\n",
              "    <tr>\n",
              "      <th>14395</th>\n",
              "      <td>2014년 2월 4일</td>\n",
              "      <td>별표 5개 만점에 1개를 받았습니다.</td>\n",
              "      <td>NaN</td>\n",
              "      <td>0</td>\n",
              "    </tr>\n",
              "  </tbody>\n",
              "</table>\n",
              "<p>14396 rows × 4 columns</p>\n",
              "</div>"
            ],
            "text/plain": [
              "                DATE                  STAR  \\\n",
              "0      2020년 12월 22일  별표 5개 만점에 1개를 받았습니다.   \n",
              "1      2020년 12월 17일  별표 5개 만점에 1개를 받았습니다.   \n",
              "2       2021년 1월 17일  별표 5개 만점에 1개를 받았습니다.   \n",
              "3        2021년 2월 2일  별표 5개 만점에 1개를 받았습니다.   \n",
              "4      2020년 12월 20일  별표 5개 만점에 1개를 받았습니다.   \n",
              "...              ...                   ...   \n",
              "14391    2017년 7월 5일  별표 5개 만점에 5개를 받았습니다.   \n",
              "14392   2019년 10월 2일  별표 5개 만점에 5개를 받았습니다.   \n",
              "14393   2018년 2월 11일  별표 5개 만점에 5개를 받았습니다.   \n",
              "14394   2017년 3월 11일  별표 5개 만점에 5개를 받았습니다.   \n",
              "14395    2014년 2월 4일  별표 5개 만점에 1개를 받았습니다.   \n",
              "\n",
              "                                                  REVIEW  LABEL  \n",
              "0      수년 째 사용하고 있지만 다른 통신사에 비해서 혜택이 적음. 장기 이용 고객 어쩌고...      0  \n",
              "1      장기이용자분들 후기 잘봤습니다. 저도 그말에 아주 공감합니다. 제휴혜택은 점점 없애...      0  \n",
              "2      저도 장기vvip 고객입니다. 혜택당연히안좋죠 그나마 메가박스 1년12회무료일때 그...      0  \n",
              "3      헐 다들 그렇구나 정말이지 5지인데 왜자꾸끊기는지..그리구 LTE때는 데이터쿠폰 사...      0  \n",
              "4      와 저만그렇게 생각하는게 아니었네요 ㅜㅜ 고객위하는척 광고로바뀌어버린앱.. 남들lg...      0  \n",
              "...                                                  ...    ...  \n",
              "14391                                              굿~~^^      1  \n",
              "14392                                 굿~~~~~~~~~~~~~~~~~      1  \n",
              "14393                                                ♥♥♥      1  \n",
              "14394                                                 ♡♡      1  \n",
              "14395                                                NaN      0  \n",
              "\n",
              "[14396 rows x 4 columns]"
            ]
          },
          "metadata": {
            "tags": []
          },
          "execution_count": 7
        }
      ]
    },
    {
      "cell_type": "markdown",
      "metadata": {
        "id": "dCerGB1EEzC5"
      },
      "source": [
        "#라벨링 실행"
      ]
    },
    {
      "cell_type": "code",
      "metadata": {
        "id": "6fFUwJA0Eyyh"
      },
      "source": [
        "!python /content/drive/Shareddrives/capstone/Elegant_Friends/src/labeling/review_labeling.py \\\n",
        "--file_name=service_center_2020_4.csv"
      ],
      "execution_count": null,
      "outputs": []
    }
  ]
}